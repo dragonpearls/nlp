{
 "cells": [
  {
   "cell_type": "markdown",
   "metadata": {},
   "source": [
    "## Assignments for Week-02"
   ]
  },
  {
   "cell_type": "markdown",
   "metadata": {},
   "source": [
    "In this course, we learnt what's the search problem and what's the machine leanring. In this assignment, we need you do some more practice."
   ]
  },
  {
   "cell_type": "markdown",
   "metadata": {},
   "source": [
    "### 1. Re-code the house price machine learning\n",
    "\n",
    "###### 1. Random Choose Method to get optimal *k* and *b*\n",
    "###### 2.Supervised Direction to get optimal *k* and *b*\n",
    "###### 3.Gradient Descent to get optimal *k* and *b*\n",
    "###### 4. Try different Loss function and learning rate. \n",
    "\n",
    "For example, you can change the loss function: $Loss = \\frac{1}{n} sum({y_i - \\hat{y_i}})^2$ to $Loss = \\frac{1}{n} sum(|{y_i - \\hat{y_i}}|)$\n",
    "\n",
    "And you can change the learning rate and observe the performance."
   ]
  },
  {
   "cell_type": "markdown",
   "metadata": {},
   "source": [
    "![](https://timgsa.baidu.com/timg?image&quality=80&size=b9999_10000&sec=1562414412237&di=8377c38d7b50c6f8d45b92ccc78dc1e7&imgtype=0&src=http%3A%2F%2Fmmbiz.qpic.cn%2Fmmbiz_jpg%2FlSyiavfm6wPgQDuDYa42IMgSkLOcPJU91RbkMibGy7VHLrhhNVLibTYk1iaLcmXKTdHc4icTDVia59QFXwqpW8cLflaw%2F640%3Fwx_fmt%3Djpeg)"
   ]
  },
  {
   "cell_type": "markdown",
   "metadata": {},
   "source": [
    "## 2. Answer following questions:\n",
    "\n",
    "\n",
    "###### 1. Why do we need machine learning methods instead of creating a complicated formula?\n"
   ]
  },
  {
   "cell_type": "markdown",
   "metadata": {},
   "source": [
    "Ans:"
   ]
  },
  {
   "cell_type": "markdown",
   "metadata": {},
   "source": [
    "###### 2.  Wha't's the disadvantages of `the 1st Random Choosen` methods in our course? "
   ]
  },
  {
   "cell_type": "markdown",
   "metadata": {},
   "source": [
    "Ans:"
   ]
  },
  {
   "cell_type": "markdown",
   "metadata": {},
   "source": [
    "###### 3. Is the `2nd method supervised direction` better than 1st one?  What's the disadvantages of `the 2nd supversied directin` method? "
   ]
  },
  {
   "cell_type": "markdown",
   "metadata": {},
   "source": [
    "Ans:"
   ]
  },
  {
   "cell_type": "markdown",
   "metadata": {},
   "source": [
    "###### 4. Why do we use `Derivative / Gredient` to fit a target function? "
   ]
  },
  {
   "cell_type": "markdown",
   "metadata": {},
   "source": [
    "Ans:"
   ]
  },
  {
   "cell_type": "markdown",
   "metadata": {},
   "source": [
    "###### 5. In the words 'Gredient Descent', what's the `Gredient` and what's the `Descent`?"
   ]
  },
  {
   "cell_type": "markdown",
   "metadata": {},
   "source": [
    "Ans:"
   ]
  },
  {
   "cell_type": "markdown",
   "metadata": {},
   "source": [
    "###### 6. What's the advantages of `the 3rd gradient descent method` compared to the previous methods?"
   ]
  },
  {
   "cell_type": "markdown",
   "metadata": {},
   "source": [
    "Ans:"
   ]
  },
  {
   "cell_type": "markdown",
   "metadata": {},
   "source": [
    "###### 7. Using the simple words to describe: What's the machine leanring."
   ]
  },
  {
   "cell_type": "markdown",
   "metadata": {},
   "source": [
    "Ans:"
   ]
  },
  {
   "cell_type": "markdown",
   "metadata": {},
   "source": [
    "## 3. Finish the search problem"
   ]
  },
  {
   "cell_type": "markdown",
   "metadata": {},
   "source": [
    "Please using the search policy to implement an agent. This agent receives two input, one is @param start station and the other is @param destination. Your agent should give the optimal route based on Beijing Subway system. "
   ]
  },
  {
   "cell_type": "markdown",
   "metadata": {},
   "source": [
    "> Deadline: 2019-July-13\n",
    "\n",
    ">Submit: Submit the source code and result to github. \n",
    "\n"
   ]
  },
  {
   "cell_type": "markdown",
   "metadata": {},
   "source": [
    "![](https://timgsa.baidu.com/timg?image&quality=80&size=b9999_10000&sec=1562414356407&di=b57814aafd215bb8b8d9d8cd37c573d6&imgtype=0&src=http%3A%2F%2Fcli.clewm.net%2Ffile%2F2015%2F03%2F24%2F174ed60082b8422ac0636cfd3efb9e7f.jpg)"
   ]
  },
  {
   "cell_type": "markdown",
   "metadata": {},
   "source": [
    "#### Dataflow: "
   ]
  },
  {
   "cell_type": "markdown",
   "metadata": {},
   "source": [
    "##### 1.\tGet data from web page.\n",
    "\n",
    "> a.\tGet web page source from: https://baike.baidu.com/item/%E5%8C%97%E4%BA%AC%E5%9C%B0%E9%93%81/408485\n",
    "\n",
    "> b.\tYou may need @package **requests**[https://2.python-requests.org/en/master/] page to get the response via url\n",
    "\n",
    "> c.\tYou may need save the page source to file system.\n",
    "\n",
    "> d.\tThe target of this step is to get station information of all the subway lines;\n",
    "\n",
    "> e.\tYou may need install @package beautiful soup[https://www.crummy.com/software/BeautifulSoup/bs4/doc/]  to get the url information, or just use > Regular Expression to get the url.  Our recommendation is that using the Regular Expression and BeautiflSoup both. \n",
    "\n",
    "> f.\tYou may need BFS to get all the related page url from one url. \n",
    "Question: Why do we use BFS to traverse web page (or someone said, build a web spider)?  Can DFS do this job? which is better? "
   ]
  },
  {
   "cell_type": "markdown",
   "metadata": {},
   "source": [
    "##### 2.\tPreprocessing data from page source.\n",
    "\n",
    "> a.\tBased on the page source gotten from url. You may need some more preprocessing of the page. \n",
    "\n",
    "> b.\tthe Regular Expression you may need to process the text information.\n",
    "\n",
    "> c.\tYou may need @package networkx, @package matplotlib to visualize data. \n",
    "\n",
    "> d.\tYou should build a dictionary or graph which could represent the connection information of Beijing subway routes. \n",
    "\n",
    "> e.\tYou may need the defaultdict, set data structures to implement this procedure. "
   ]
  },
  {
   "cell_type": "markdown",
   "metadata": {},
   "source": [
    "##### 3. Build the search agent\n",
    "\n",
    "> Build the search agent based on the graph we build.\n",
    "\n",
    "for example, when you run: \n",
    "\n",
    "```python\n",
    ">>> search('奥体中心', '天安门') \n",
    "```\n",
    "you need get the result: \n",
    "\n",
    "奥体中心-> A -> B -> C -> ... -> 天安门\n",
    "\n"
   ]
  },
  {
   "cell_type": "code",
   "execution_count": 1,
   "metadata": {},
   "outputs": [],
   "source": [
    "import requests\n",
    "import re\n",
    "from collections import defaultdict"
   ]
  },
  {
   "cell_type": "code",
   "execution_count": 2,
   "metadata": {},
   "outputs": [],
   "source": [
    "url = 'https://baike.baidu.com/item/%E5%8C%97%E4%BA%AC%E5%9C%B0%E9%93%81/408485'"
   ]
  },
  {
   "cell_type": "code",
   "execution_count": 3,
   "metadata": {},
   "outputs": [],
   "source": [
    "headers = {\"User-Agent\" : \"User-Agent:Mozilla/5.0 (compatible; MSIE 9.0; Windows NT 6.1; Trident/5.0;\"}\n",
    "response = requests.get(url, headers=headers)"
   ]
  },
  {
   "cell_type": "code",
   "execution_count": 4,
   "metadata": {},
   "outputs": [],
   "source": [
    "text = response.content.decode('utf8')"
   ]
  },
  {
   "cell_type": "code",
   "execution_count": 5,
   "metadata": {},
   "outputs": [],
   "source": [
    "def get_url_text(url):\n",
    "    headers = {\"User-Agent\" : \"User-Agent:Mozilla/5.0 (compatible; MSIE 9.0; Windows NT 6.1; Trident/5.0;\"}\n",
    "    response = requests.get(url, headers=headers)\n",
    "    text = response.content.decode('utf8')\n",
    "    return text"
   ]
  },
  {
   "cell_type": "code",
   "execution_count": null,
   "metadata": {},
   "outputs": [],
   "source": [
    "## get sub text from  <a name=\"运行时间\" class=\"lemma-anchor \" ></a>  to   <a name=\"客运流量\" class=\"lemma-anchor \" ></a>\n",
    "sub_text = re.findall(r'<a\\sname=\\\"运行时间\\\"([\\s\\S]*?)<a\\sname=\\\"客运流量\\\"', text)"
   ]
  },
  {
   "cell_type": "code",
   "execution_count": 6,
   "metadata": {},
   "outputs": [
    {
     "name": "stdout",
     "output_type": "stream",
     "text": [
      "20\n"
     ]
    }
   ],
   "source": [
    "## <a target=_blank href=\"/item/%E5%8C%97%E4%BA%AC%E5%9C%B0%E9%93%81%E6%9C%BA%E5%9C%BA%E7%BA%BF\">北京地铁机场线</a></div>\n",
    "line_links = re.findall(r'<a\\starget=_blank\\shref=\\\"([\\w%\\/]+)\\\">北京地铁(\\w+线)', text)\n",
    "line_links = set(line_links)\n",
    "\n",
    "lines = {}\n",
    "alias_line = ['八通线', '大兴线']\n",
    "\n",
    "for line in line_links:\n",
    "    if line[1] in alias_line: continue\n",
    "    lines[line[1]] = 'https://baike.baidu.com' + line[0]\n",
    "\n",
    "print(len(lines))"
   ]
  },
  {
   "cell_type": "code",
   "execution_count": 7,
   "metadata": {},
   "outputs": [
    {
     "data": {
      "text/plain": [
       "{'13号线': 'https://baike.baidu.com/item/%E5%8C%97%E4%BA%AC%E5%9C%B0%E9%93%8113%E5%8F%B7%E7%BA%BF',\n",
       " '亦庄线': 'https://baike.baidu.com/item/%E5%8C%97%E4%BA%AC%E5%9C%B0%E9%93%81%E4%BA%A6%E5%BA%84%E7%BA%BF',\n",
       " '7号线': 'https://baike.baidu.com/item/%E5%8C%97%E4%BA%AC%E5%9C%B0%E9%93%817%E5%8F%B7%E7%BA%BF',\n",
       " '15号线': 'https://baike.baidu.com/item/%E5%8C%97%E4%BA%AC%E5%9C%B0%E9%93%8115%E5%8F%B7%E7%BA%BF',\n",
       " '房山线': 'https://baike.baidu.com/item/%E5%8C%97%E4%BA%AC%E5%9C%B0%E9%93%81%E6%88%BF%E5%B1%B1%E7%BA%BF',\n",
       " '16号线': 'https://baike.baidu.com/item/%E5%8C%97%E4%BA%AC%E5%9C%B0%E9%93%8116%E5%8F%B7%E7%BA%BF',\n",
       " 'S1线': 'https://baike.baidu.com/item/%E5%8C%97%E4%BA%AC%E5%9C%B0%E9%93%81S1%E7%BA%BF',\n",
       " '6号线': 'https://baike.baidu.com/item/%E5%8C%97%E4%BA%AC%E5%9C%B0%E9%93%816%E5%8F%B7%E7%BA%BF',\n",
       " '昌平线': 'https://baike.baidu.com/item/%E5%8C%97%E4%BA%AC%E5%9C%B0%E9%93%81%E6%98%8C%E5%B9%B3%E7%BA%BF',\n",
       " '8号线': 'https://baike.baidu.com/item/%E5%8C%97%E4%BA%AC%E5%9C%B0%E9%93%818%E5%8F%B7%E7%BA%BF',\n",
       " '9号线': 'https://baike.baidu.com/item/%E5%8C%97%E4%BA%AC%E5%9C%B0%E9%93%819%E5%8F%B7%E7%BA%BF',\n",
       " '4号线': 'https://baike.baidu.com/item/%E5%8C%97%E4%BA%AC%E5%9C%B0%E9%93%814%E5%8F%B7%E7%BA%BF',\n",
       " '14号线': 'https://baike.baidu.com/item/%E5%8C%97%E4%BA%AC%E5%9C%B0%E9%93%8114%E5%8F%B7%E7%BA%BF',\n",
       " '燕房线': 'https://baike.baidu.com/item/%E5%8C%97%E4%BA%AC%E5%9C%B0%E9%93%81%E7%87%95%E6%88%BF%E7%BA%BF',\n",
       " '西郊线': 'https://baike.baidu.com/item/%E5%8C%97%E4%BA%AC%E5%9C%B0%E9%93%81%E8%A5%BF%E9%83%8A%E7%BA%BF',\n",
       " '1号线': 'https://baike.baidu.com/item/%E5%8C%97%E4%BA%AC%E5%9C%B0%E9%93%811%E5%8F%B7%E7%BA%BF',\n",
       " '机场线': 'https://baike.baidu.com/item/%E5%8C%97%E4%BA%AC%E5%9C%B0%E9%93%81%E6%9C%BA%E5%9C%BA%E7%BA%BF',\n",
       " '5号线': 'https://baike.baidu.com/item/%E5%8C%97%E4%BA%AC%E5%9C%B0%E9%93%815%E5%8F%B7%E7%BA%BF',\n",
       " '10号线': 'https://baike.baidu.com/item/%E5%8C%97%E4%BA%AC%E5%9C%B0%E9%93%8110%E5%8F%B7%E7%BA%BF',\n",
       " '2号线': 'https://baike.baidu.com/item/%E5%8C%97%E4%BA%AC%E5%9C%B0%E9%93%812%E5%8F%B7%E7%BA%BF'}"
      ]
     },
     "execution_count": 7,
     "metadata": {},
     "output_type": "execute_result"
    }
   ],
   "source": [
    "lines"
   ]
  },
  {
   "cell_type": "code",
   "execution_count": 10,
   "metadata": {},
   "outputs": [],
   "source": [
    "line_text = get_url_text('https://baike.baidu.com/item/%E5%8C%97%E4%BA%AC%E5%9C%B0%E9%93%81S1%E7%BA%BF')"
   ]
  },
  {
   "cell_type": "code",
   "execution_count": 11,
   "metadata": {},
   "outputs": [
    {
     "name": "stdout",
     "output_type": "stream",
     "text": [
      "7\n"
     ]
    },
    {
     "data": {
      "text/plain": [
       "{'桥户营站': 'https://baike.baidu.com/item/%E6%A1%A5%E6%88%B7%E8%90%A5%E7%AB%99',\n",
       " '栗园庄站': 'https://baike.baidu.com/item/%E6%A0%97%E5%9B%AD%E5%BA%84%E7%AB%99',\n",
       " '小园站': 'https://baike.baidu.com/item/%E5%B0%8F%E5%9B%AD%E7%AB%99',\n",
       " '四道桥站': 'https://baike.baidu.com/item/%E5%9B%9B%E9%81%93%E6%A1%A5%E7%AB%99',\n",
       " '石厂站': 'https://baike.baidu.com/item/%E7%9F%B3%E5%8E%82%E7%AB%99',\n",
       " '金安桥站': 'https://baike.baidu.com/item/%E9%87%91%E5%AE%89%E6%A1%A5%E7%AB%99',\n",
       " '上岸站': 'https://baike.baidu.com/item/%E4%B8%8A%E5%B2%B8%E7%AB%99'}"
      ]
     },
     "execution_count": 11,
     "metadata": {},
     "output_type": "execute_result"
    }
   ],
   "source": [
    "## <a target=_blank href=\"/item/%E6%9C%B1%E8%BE%9B%E5%BA%84%E7%AB%99\">朱辛庄站\n",
    "line_text = get_url_text('https://baike.baidu.com/item/%E5%8C%97%E4%BA%AC%E5%9C%B0%E9%93%81S1%E7%BA%BF')\n",
    "\n",
    "stations_links = re.findall(r'<a\\starget=_blank\\shref=\\\"([\\w%\\/]+)\\\">(\\w+站)', line_text)\n",
    "stations_links = set(stations_links)\n",
    "\n",
    "stations = {}\n",
    "\n",
    "for station in stations_links:\n",
    "    stations[station[1]] = 'https://baike.baidu.com' + station[0]\n",
    "\n",
    "print(len(stations))\n",
    "stations"
   ]
  },
  {
   "cell_type": "code",
   "execution_count": 54,
   "metadata": {},
   "outputs": [
    {
     "name": "stdout",
     "output_type": "stream",
     "text": [
      "13号线 https://baike.baidu.com/item/%E5%8C%97%E4%BA%AC%E5%9C%B0%E9%93%8113%E5%8F%B7%E7%BA%BF\n",
      "亦庄线 https://baike.baidu.com/item/%E5%8C%97%E4%BA%AC%E5%9C%B0%E9%93%81%E4%BA%A6%E5%BA%84%E7%BA%BF\n",
      "7号线 https://baike.baidu.com/item/%E5%8C%97%E4%BA%AC%E5%9C%B0%E9%93%817%E5%8F%B7%E7%BA%BF\n",
      "15号线 https://baike.baidu.com/item/%E5%8C%97%E4%BA%AC%E5%9C%B0%E9%93%8115%E5%8F%B7%E7%BA%BF\n",
      "房山线 https://baike.baidu.com/item/%E5%8C%97%E4%BA%AC%E5%9C%B0%E9%93%81%E6%88%BF%E5%B1%B1%E7%BA%BF\n",
      "16号线 https://baike.baidu.com/item/%E5%8C%97%E4%BA%AC%E5%9C%B0%E9%93%8116%E5%8F%B7%E7%BA%BF\n",
      "S1线 https://baike.baidu.com/item/%E5%8C%97%E4%BA%AC%E5%9C%B0%E9%93%81S1%E7%BA%BF\n",
      "6号线 https://baike.baidu.com/item/%E5%8C%97%E4%BA%AC%E5%9C%B0%E9%93%816%E5%8F%B7%E7%BA%BF\n",
      "昌平线 https://baike.baidu.com/item/%E5%8C%97%E4%BA%AC%E5%9C%B0%E9%93%81%E6%98%8C%E5%B9%B3%E7%BA%BF\n",
      "8号线 https://baike.baidu.com/item/%E5%8C%97%E4%BA%AC%E5%9C%B0%E9%93%818%E5%8F%B7%E7%BA%BF\n",
      "9号线 https://baike.baidu.com/item/%E5%8C%97%E4%BA%AC%E5%9C%B0%E9%93%819%E5%8F%B7%E7%BA%BF\n",
      "4号线 https://baike.baidu.com/item/%E5%8C%97%E4%BA%AC%E5%9C%B0%E9%93%814%E5%8F%B7%E7%BA%BF\n",
      "14号线 https://baike.baidu.com/item/%E5%8C%97%E4%BA%AC%E5%9C%B0%E9%93%8114%E5%8F%B7%E7%BA%BF\n",
      "燕房线 https://baike.baidu.com/item/%E5%8C%97%E4%BA%AC%E5%9C%B0%E9%93%81%E7%87%95%E6%88%BF%E7%BA%BF\n",
      "西郊线 https://baike.baidu.com/item/%E5%8C%97%E4%BA%AC%E5%9C%B0%E9%93%81%E8%A5%BF%E9%83%8A%E7%BA%BF\n",
      "1号线 https://baike.baidu.com/item/%E5%8C%97%E4%BA%AC%E5%9C%B0%E9%93%811%E5%8F%B7%E7%BA%BF\n",
      "机场线 https://baike.baidu.com/item/%E5%8C%97%E4%BA%AC%E5%9C%B0%E9%93%81%E6%9C%BA%E5%9C%BA%E7%BA%BF\n",
      "5号线 https://baike.baidu.com/item/%E5%8C%97%E4%BA%AC%E5%9C%B0%E9%93%815%E5%8F%B7%E7%BA%BF\n",
      "10号线 https://baike.baidu.com/item/%E5%8C%97%E4%BA%AC%E5%9C%B0%E9%93%8110%E5%8F%B7%E7%BA%BF\n",
      "2号线 https://baike.baidu.com/item/%E5%8C%97%E4%BA%AC%E5%9C%B0%E9%93%812%E5%8F%B7%E7%BA%BF\n",
      "367\n"
     ]
    }
   ],
   "source": [
    "stations = {}\n",
    "for line, url in lines.items():\n",
    "    ## <a target=_blank href=\"/item/%E6%9C%B1%E8%BE%9B%E5%BA%84%E7%AB%99\">朱辛庄站\n",
    "    print(line, url)\n",
    "    text = get_url_text(url)\n",
    "\n",
    "    station_links = re.findall(r'<a\\starget=_blank\\shref=\\\"([\\w%\\/]+)\\\"[\\s\\w\\\"\\d\\-\\=]*>(\\w+站)<\\/a>', text)\n",
    "    station_links = set(station_links)\n",
    "    \n",
    "    for station in station_links:\n",
    "        if station[1] in stations:\n",
    "            stations[station[1]][1].append(line)\n",
    "        else:\n",
    "            stations[station[1]] = ['https://baike.baidu.com' + station[0], [line]]\n",
    "        \n",
    "print(len(stations))"
   ]
  },
  {
   "cell_type": "code",
   "execution_count": 56,
   "metadata": {},
   "outputs": [
    {
     "data": {
      "text/plain": [
       "['芍药居站',\n",
       " '柳芳站',\n",
       " '北苑站',\n",
       " '望京西站',\n",
       " '大钟寺站',\n",
       " '西二旗站',\n",
       " '回龙观站',\n",
       " '上地站',\n",
       " '霍营站',\n",
       " '清华东站',\n",
       " '西直门站',\n",
       " '知春路站',\n",
       " '东直门站',\n",
       " '五道口站',\n",
       " '立水桥站',\n",
       " '光熙门站',\n",
       " '龙泽站',\n",
       " '清华东路西口站',\n",
       " '宋家庄站',\n",
       " '旧宫站',\n",
       " '荣昌东街站',\n",
       " '车站',\n",
       " '次渠站',\n",
       " '肖村站',\n",
       " '万源街站',\n",
       " '小红门站',\n",
       " '亦庄文化园站',\n",
       " '亦庄火车站',\n",
       " '同济南路站',\n",
       " '经海路站',\n",
       " '亦庄桥站',\n",
       " '次渠南站',\n",
       " '荣京东街站',\n",
       " '劲松站',\n",
       " '双井站',\n",
       " '广渠门外站',\n",
       " '欢乐谷景区站',\n",
       " '广安门内站',\n",
       " '小马庄站',\n",
       " '黑庄户站',\n",
       " '焦化厂站',\n",
       " '牛街站',\n",
       " '广渠门内站',\n",
       " '豆各庄站',\n",
       " '南楼梓庄站',\n",
       " '北京西站',\n",
       " '磁器口站',\n",
       " '达官营站',\n",
       " '桥湾站',\n",
       " '珠市口站',\n",
       " '云景东路站',\n",
       " '黄厂村站',\n",
       " '广安门站',\n",
       " '虎坊桥站',\n",
       " '环球影城站',\n",
       " '九龙山站',\n",
       " '西客站',\n",
       " '湾子站',\n",
       " '万盛南街西口站',\n",
       " '垡头站',\n",
       " '化工站',\n",
       " '高楼金站',\n",
       " '菜市口站',\n",
       " '双合站',\n",
       " '百子湾站',\n",
       " '大郊亭站',\n",
       " '奥林匹克公园站',\n",
       " '南法信站',\n",
       " '六道口站',\n",
       " '顺义站',\n",
       " '关庄站',\n",
       " '后沙峪站',\n",
       " '马泉营站',\n",
       " '西苑站',\n",
       " '北沙滩站',\n",
       " '孙河站',\n",
       " '崔各庄站',\n",
       " '大屯路东站',\n",
       " '俸伯站',\n",
       " '花梨坎站',\n",
       " '安立路站',\n",
       " '望京东站',\n",
       " '国展站',\n",
       " '望京站',\n",
       " '石门站',\n",
       " '圆明园站',\n",
       " '苏庄站',\n",
       " '郭公庄站',\n",
       " '篱笆房站',\n",
       " '丰益桥南站',\n",
       " '良乡大学城站',\n",
       " '首经贸站',\n",
       " '广阳城站',\n",
       " '稻田站',\n",
       " '良乡大学城北站',\n",
       " '大葆台站',\n",
       " '新宫站',\n",
       " '长阳站',\n",
       " '良乡南关站',\n",
       " '阎村东站',\n",
       " '良乡大学城西站',\n",
       " '万寿寺站',\n",
       " '西北旺站',\n",
       " '丰台站',\n",
       " '永丰站',\n",
       " '宛平城站',\n",
       " '丰台南路站',\n",
       " '二里沟站',\n",
       " '稻香湖路站',\n",
       " '苏州街站',\n",
       " '苏州桥站',\n",
       " '红莲南里站',\n",
       " '宛平站',\n",
       " '富丰桥站',\n",
       " '永丰南站',\n",
       " '甘家口站',\n",
       " '丽泽商务区站',\n",
       " '屯佃站',\n",
       " '看丹站',\n",
       " '温阳路站',\n",
       " '农大南路站',\n",
       " '木樨地站',\n",
       " '榆树庄站',\n",
       " '国家图书馆站',\n",
       " '马连洼站',\n",
       " '玉渊潭东门站',\n",
       " '万泉河桥站',\n",
       " '北安河站',\n",
       " '桥户营站',\n",
       " '栗园庄站',\n",
       " '苹果园站',\n",
       " '小园站',\n",
       " '四道桥站',\n",
       " '石厂站',\n",
       " '金安桥站',\n",
       " '上岸站',\n",
       " '车公庄西站',\n",
       " '草房站',\n",
       " '慈寿寺站',\n",
       " '通运门站',\n",
       " '东大桥站',\n",
       " '潞城站',\n",
       " '青年路站',\n",
       " '南锣鼓巷站',\n",
       " '物资学院路站',\n",
       " '郝家府站',\n",
       " '车公庄站',\n",
       " '黄渠站',\n",
       " '常营站',\n",
       " '东四站',\n",
       " '呼家楼站',\n",
       " '北运河西站',\n",
       " '杨庄站',\n",
       " '金台路站',\n",
       " '北海北站',\n",
       " '花园桥站',\n",
       " '褡裢坡站',\n",
       " '平安里站',\n",
       " '苹果园南路站',\n",
       " '通州北关站',\n",
       " '海淀五路居站',\n",
       " '西黄村站',\n",
       " '白石桥南站',\n",
       " '十里堡站',\n",
       " '田村站',\n",
       " '廖公庄站',\n",
       " '东夏园站',\n",
       " '朝阳门站',\n",
       " '北运河东站',\n",
       " '生命科学园站',\n",
       " '南邵站',\n",
       " '朱辛庄站',\n",
       " '北邵洼站',\n",
       " '昌平东关站',\n",
       " '昌平北站',\n",
       " '沙河站',\n",
       " '十三陵景区站',\n",
       " '昌平西山口站',\n",
       " '岛式车站',\n",
       " '昌平站',\n",
       " '沙河高教园站',\n",
       " '巩华城站',\n",
       " '森林公园南门站',\n",
       " '永定门外站',\n",
       " '五福堂站',\n",
       " '王府井站',\n",
       " '瀛海站',\n",
       " '北土城站',\n",
       " '中国美术馆站',\n",
       " '平西府站',\n",
       " '安德里北街站',\n",
       " '奥体中心站',\n",
       " '什刹海站',\n",
       " '大红门站',\n",
       " '和义站',\n",
       " '天桥站',\n",
       " '前门站',\n",
       " '德茂站',\n",
       " '安华桥站',\n",
       " '鼓楼大街站',\n",
       " '西小口站',\n",
       " '育新站',\n",
       " '东高地站',\n",
       " '六营门站',\n",
       " '永泰庄站',\n",
       " '海户屯站',\n",
       " '金鱼胡同站',\n",
       " '大红门南站',\n",
       " '木樨园站',\n",
       " '育知路站',\n",
       " '火箭万源站',\n",
       " '回龙观东大街站',\n",
       " '林萃桥站',\n",
       " '白堆子站',\n",
       " '丰台科技园站',\n",
       " '科怡路站',\n",
       " '六里桥站',\n",
       " '六里桥东站',\n",
       " '军事博物馆站',\n",
       " '丰台东大街站',\n",
       " '七里庄站',\n",
       " '魏公村站',\n",
       " '公益西桥站',\n",
       " '角门西站',\n",
       " '西单站',\n",
       " '陶然亭站',\n",
       " '安河桥北站',\n",
       " '北京南站',\n",
       " '中关村站',\n",
       " '动物园站',\n",
       " '马家堡站',\n",
       " '西四站',\n",
       " '新街口站',\n",
       " '灵境胡同站',\n",
       " '人民大学站',\n",
       " '北宫门站',\n",
       " '海淀黄庄站',\n",
       " '北京大学东门站',\n",
       " '宣武门站',\n",
       " '景泰站',\n",
       " '高家园站',\n",
       " '阜通站',\n",
       " '东管头站',\n",
       " '望京南站',\n",
       " '北工大西门站',\n",
       " '平乐园站',\n",
       " '陶然桥站',\n",
       " '大望路站',\n",
       " '朝阳公园站',\n",
       " '园博园站',\n",
       " '善各庄站',\n",
       " '大井站',\n",
       " '枣营站',\n",
       " '东湖渠站',\n",
       " '方庄站',\n",
       " '东风北桥站',\n",
       " '景风门站',\n",
       " '北京站',\n",
       " '大瓦窑站',\n",
       " '郭庄子站',\n",
       " '西铁营站',\n",
       " '蒲黄榆站',\n",
       " '来广营站',\n",
       " '西局站',\n",
       " '将台站',\n",
       " '十里河站',\n",
       " '菜户营站',\n",
       " '房山城关站',\n",
       " '星城站',\n",
       " '马各庄站',\n",
       " '饶乐府站',\n",
       " '大石河东站',\n",
       " '老城区站',\n",
       " '顾册站',\n",
       " '燕山站',\n",
       " '紫草坞站',\n",
       " '阎村站',\n",
       " '巴沟站',\n",
       " '茶棚站',\n",
       " '香山站',\n",
       " '颐和园西门站',\n",
       " '植物园站',\n",
       " '黑石头站',\n",
       " '国贸站',\n",
       " '四惠站',\n",
       " '果园站',\n",
       " '福寿岭站',\n",
       " '终点站',\n",
       " '玉泉路站',\n",
       " '古城站',\n",
       " '四惠东站',\n",
       " '传媒大学站',\n",
       " '天安门东站',\n",
       " '高碑店站',\n",
       " '建国门站',\n",
       " '安定门站',\n",
       " '八角游乐园站',\n",
       " '五棵松站',\n",
       " '高井站',\n",
       " '双桥站',\n",
       " '花庄站',\n",
       " '万寿路站',\n",
       " '公主坟站',\n",
       " '北京军区站',\n",
       " '临河里站',\n",
       " '八宝山站',\n",
       " '永安里站',\n",
       " '雍和宫站',\n",
       " '衙门口站',\n",
       " '九棵树站',\n",
       " '长椿街站',\n",
       " '管庄站',\n",
       " '梨园站',\n",
       " '复兴门站',\n",
       " '天安门西站',\n",
       " '通州北苑站',\n",
       " '南礼士路站',\n",
       " '积水潭站',\n",
       " '八里桥站',\n",
       " '土桥站',\n",
       " '东单站',\n",
       " '2号航站楼站',\n",
       " '3号航站楼站',\n",
       " '三元桥站',\n",
       " '惠新西街南口站',\n",
       " '刘家窑站',\n",
       " '和平西桥站',\n",
       " '张自忠路站',\n",
       " '北苑路北站',\n",
       " '马坊站',\n",
       " '和平里北街站',\n",
       " '北新桥站',\n",
       " '天通苑南站',\n",
       " '平坊站',\n",
       " '惠新西街北口站',\n",
       " '立水桥南站',\n",
       " '天通苑站',\n",
       " '崇文门站',\n",
       " '灯市口站',\n",
       " '天通苑北站',\n",
       " '天坛东门站',\n",
       " '安贞门站',\n",
       " '莲花桥站',\n",
       " '车道沟站',\n",
       " '草桥站',\n",
       " '牡丹园站',\n",
       " '纪家庙站',\n",
       " '农业展览馆站',\n",
       " '火器营站',\n",
       " '分钟寺站',\n",
       " '成寿寺站',\n",
       " '西钓鱼台站',\n",
       " '长春桥站',\n",
       " '金台夕照站',\n",
       " '角门东站',\n",
       " '石榴庄站',\n",
       " '健德门站',\n",
       " '知春里站',\n",
       " '潘家园站',\n",
       " '西土城站',\n",
       " '太阳宫站',\n",
       " '亮马桥站',\n",
       " '团结湖站',\n",
       " '泥洼站',\n",
       " '东四十条站',\n",
       " '阜成门站',\n",
       " '和平门站']"
      ]
     },
     "execution_count": 56,
     "metadata": {},
     "output_type": "execute_result"
    }
   ],
   "source": [
    "[station for station in stations.keys()]"
   ]
  },
  {
   "cell_type": "code",
   "execution_count": 57,
   "metadata": {},
   "outputs": [],
   "source": [
    "def get_connection(station):\n",
    "    text = get_url_text(stations[station][0])\n",
    "    ## 下一站：<a target=_blank href=\"/item/%E5%AE%89%E5%AE%9A%E9%97%A8%E7%AB%99\">安定门站\n",
    "    ## 下一站：<a target=_blank href=\"/item/%E9%BB%84%E5%8E%82%E7%AB%99/23594009\" data-lemmaid=\"23594009\">黄厂站</a>\n",
    "    connections = re.findall(r'下一站\\：<a\\starget=_blank\\shref=\\\"[\\w%\\/]+\\\"[\\s\\w\\\"\\d\\-\\=]*>(\\w+站)', text)\n",
    "    print(station, 'is connected to', connections) "
   ]
  },
  {
   "cell_type": "code",
   "execution_count": 60,
   "metadata": {},
   "outputs": [
    {
     "name": "stdout",
     "output_type": "stream",
     "text": [
      "鼓楼大街站 is connected to ['安定门站', '积水潭站', '什刹海站', '安德里北街站']\n"
     ]
    }
   ],
   "source": [
    "get_connection('鼓楼大街站')"
   ]
  },
  {
   "cell_type": "code",
   "execution_count": 61,
   "metadata": {},
   "outputs": [
    {
     "data": {
      "text/plain": [
       "['https://baike.baidu.com/item/%E7%84%A6%E5%8C%96%E5%8E%82%E7%AB%99', ['7号线']]"
      ]
     },
     "execution_count": 61,
     "metadata": {},
     "output_type": "execute_result"
    }
   ],
   "source": [
    "stations['焦化厂站']"
   ]
  },
  {
   "cell_type": "code",
   "execution_count": 62,
   "metadata": {},
   "outputs": [
    {
     "name": "stdout",
     "output_type": "stream",
     "text": [
      "焦化厂站 is connected to ['黄厂站', '双合站']\n"
     ]
    }
   ],
   "source": [
    "get_connection('焦化厂站')"
   ]
  },
  {
   "cell_type": "code",
   "execution_count": 63,
   "metadata": {},
   "outputs": [
    {
     "name": "stdout",
     "output_type": "stream",
     "text": [
      "芍药居站 is connected to ['望京西站', '光熙门站', '太阳宫站', '惠新西街南口站']\n",
      "柳芳站 is connected to ['光熙门站']\n",
      "北苑站 is connected to ['立水桥站', '望京西站']\n",
      "望京西站 is connected to ['北苑站', '芍药居站', '关庄站', '望京站', '太阳宫站', '勇士营站']\n",
      "大钟寺站 is connected to ['知春路站', '人民大学站', '蓟门桥站']\n",
      "西二旗站 is connected to ['上地站', '龙泽站', '生命科学园站']\n",
      "回龙观站 is connected to ['龙泽站', '霍营站']\n",
      "上地站 is connected to ['五道口站', '西二旗站']\n",
      "霍营站 is connected to ['回龙观站', '立水桥站', '育新站', '回龙观东大街站']\n",
      "清华东站 is connected to ['六道口站', '五道口站', '上地站']\n",
      "西直门站 is connected to ['积水潭站']\n",
      "知春路站 is connected to ['大钟寺站', '五道口站', '西土城站', '知春里站']\n",
      "东直门站 is connected to ['东四十条站', '雍和宫站', '柳芳站', '三元桥站']\n",
      "五道口站 is connected to ['知春路站', '上地站']\n",
      "立水桥站 is connected to ['霍营站', '北苑站', '立水桥南站', '天通苑南站']\n",
      "光熙门站 is connected to ['芍药居站', '柳芳站', '和平西桥站', '西坝河站']\n",
      "龙泽站 is connected to ['西二旗站', '回龙观站']\n",
      "清华东路西口站 is connected to ['六道口站', '五道口站', '上地站']\n",
      "宋家庄站 is connected to []\n",
      "旧宫站 is connected to ['小红门站', '亦庄桥站']\n",
      "荣昌东街站 is connected to ['荣京东街站', '同济南路站']\n",
      "车站 is connected to []\n",
      "次渠站 is connected to ['次渠南站']\n",
      "肖村站 is connected to ['小红门站']\n",
      "万源街站 is connected to ['亦庄文化园站', '荣京东街站']\n",
      "小红门站 is connected to ['肖村站', '旧宫站']\n",
      "亦庄文化园站 is connected to ['亦庄桥站', '万源街站']\n",
      "亦庄火车站 is connected to ['次渠站']\n",
      "同济南路站 is connected to ['荣昌东街站', '经海路站']\n",
      "经海路站 is connected to ['同济南路站', '次渠南站']\n",
      "亦庄桥站 is connected to ['旧宫站', '亦庄文化园站']\n",
      "次渠南站 is connected to ['经海路站', '次渠站']\n",
      "荣京东街站 is connected to ['万源街站', '荣昌东街站']\n",
      "劲松站 is connected to ['潘家园站', '双井站']\n",
      "双井站 is connected to []\n",
      "广渠门外站 is connected to ['广渠门内站', '双井站']\n",
      "欢乐谷景区站 is connected to ['南楼梓庄站', '垡头站']\n",
      "广安门内站 is connected to ['达官营站', '菜市口站']\n",
      "小马庄站 is connected to []\n",
      "黑庄户站 is connected to ['大稿站', '郎辛庄站']\n",
      "焦化厂站 is connected to ['黄厂站', '双合站']\n",
      "牛街站 is connected to []\n",
      "广渠门内站 is connected to ['磁器口站', '广渠门外站']\n",
      "豆各庄站 is connected to []\n",
      "南楼梓庄站 is connected to ['化工站', '欢乐谷景区站']\n",
      "北京西站 is connected to ['六里桥东站', '军事博物馆站', '湾子站']\n",
      "磁器口站 is connected to ['天坛东门站', '崇文门站', '广渠门内站']\n",
      "达官营站 is connected to ['湾子站', '广安门内站', '红莲南路站', '木樨地站']\n",
      "桥湾站 is connected to ['珠市口站', '磁器口站']\n",
      "珠市口站 is connected to ['虎坊桥站', '桥湾站', '天桥站', '前门站']\n",
      "云景东路站 is connected to []\n",
      "黄厂村站 is connected to []\n",
      "广安门站 is connected to []\n",
      "虎坊桥站 is connected to ['菜市口站', '珠市口站']\n",
      "环球影城站 is connected to []\n",
      "九龙山站 is connected to ['双井站', '大郊亭站', '平乐园站', '大望路站']\n",
      "西客站 is connected to []\n",
      "湾子站 is connected to ['北京西站', '达官营站']\n",
      "万盛南街西口站 is connected to []\n",
      "垡头站 is connected to ['欢乐谷景区站', '双合站']\n",
      "化工站 is connected to ['百子湾站', '南楼梓庄站']\n",
      "高楼金站 is connected to []\n",
      "菜市口站 is connected to ['陶然亭站', '宣武门站', '广安门内站', '虎坊桥站']\n",
      "双合站 is connected to ['垡头站']\n",
      "百子湾站 is connected to ['大郊亭站', '化工站']\n",
      "大郊亭站 is connected to ['九龙山站', '百子湾站']\n",
      "奥林匹克公园站 is connected to ['奥体中心站', '森林公园南门站', '北沙滩站', '安立路站']\n",
      "南法信站 is connected to ['后沙峪站', '石门站']\n",
      "六道口站 is connected to []\n",
      "顺义站 is connected to ['石门站']\n",
      "关庄站 is connected to ['大屯路东站', '望京西站']\n",
      "后沙峪站 is connected to ['花梨坎站', '南法信站']\n",
      "马泉营站 is connected to ['崔各庄站', '孙河站']\n",
      "西苑站 is connected to ['圆明园站', '北宫门站', '农大南路站']\n",
      "北沙滩站 is connected to ['六道口站', '奥林匹克公园站']\n",
      "孙河站 is connected to ['马泉营站', '国展站']\n",
      "崔各庄站 is connected to ['望京东站', '马泉营站']\n",
      "大屯路东站 is connected to ['惠新西街北口站', '北苑路北站', '安立路站', '关庄站']\n",
      "俸伯站 is connected to ['顺义站']\n",
      "花梨坎站 is connected to ['国展站', '后沙峪站']\n",
      "安立路站 is connected to ['奥林匹克公园站', '大屯路东站']\n",
      "望京东站 is connected to ['望京站', '崔各庄站']\n",
      "国展站 is connected to ['孙河站', '花梨坎站']\n",
      "望京站 is connected to ['望京西站', '望京东站', '阜通站', '东湖渠站']\n",
      "石门站 is connected to ['南法信站', '顺义站']\n",
      "圆明园站 is connected to ['北京大学东门站', '西苑站']\n",
      "苏庄站 is connected to ['良乡南关站', '阎村东站']\n",
      "郭公庄站 is connected to ['丰台科技园站', '大葆台站']\n",
      "篱笆房站 is connected to ['长阳站', '广阳城站']\n",
      "丰益桥南站 is connected to []\n",
      "良乡大学城站 is connected to ['良乡大学城北站', '良乡大学城西站']\n",
      "首经贸站 is connected to ['丰台站', '纪家庙站', '丰益桥南站']\n",
      "广阳城站 is connected to ['篱笆房站', '良乡大学城北站']\n",
      "稻田站 is connected to ['大葆台站']\n",
      "良乡大学城北站 is connected to ['广阳城站', '良乡大学城站']\n",
      "大葆台站 is connected to ['稻田站']\n",
      "新宫站 is connected to ['西红门站', '公益西桥站']\n",
      "长阳站 is connected to ['稻田站', '篱笆房站']\n",
      "良乡南关站 is connected to ['良乡大学城西站']\n",
      "阎村东站 is connected to ['紫草坞站', '苏庄站']\n",
      "良乡大学城西站 is connected to ['良乡大学城站', '良乡南关站']\n",
      "万寿寺站 is connected to []\n",
      "西北旺站 is connected to ['马连洼站', '永丰南站']\n",
      "丰台站 is connected to ['泥洼站', '首经贸站', '丰台南路站']\n",
      "永丰站 is connected to ['永丰南站', '屯佃站']\n",
      "宛平城站 is connected to []\n",
      "丰台南路站 is connected to ['科怡路站', '丰台东大街站', '丰台站']\n",
      "二里沟站 is connected to ['白石桥南站', '车公庄西站', '甘家口站', '国家图书馆站']\n",
      "稻香湖路站 is connected to ['屯佃站', '温阳路站']\n",
      "苏州街站 is connected to ['海淀黄庄站', '巴沟站']\n",
      "苏州桥站 is connected to []\n",
      "红莲南里站 is connected to []\n",
      "宛平站 is connected to []\n",
      "富丰桥站 is connected to []\n",
      "永丰南站 is connected to ['西北旺站', '永丰站']\n",
      "甘家口站 is connected to []\n",
      "丽泽商务区站 is connected to []\n",
      "屯佃站 is connected to ['永丰站', '稻香湖路站']\n",
      "看丹站 is connected to []\n",
      "温阳路站 is connected to ['稻香湖路站', '北安河站']\n",
      "农大南路站 is connected to ['西苑站', '马连洼站']\n",
      "木樨地站 is connected to ['南礼士路站', '玉渊潭东门站']\n",
      "榆树庄站 is connected to []\n",
      "国家图书馆站 is connected to ['动物园站', '魏公村站', '白石桥南站', '二里沟站']\n",
      "马连洼站 is connected to ['农大南路站', '西北旺站']\n",
      "玉渊潭东门站 is connected to []\n",
      "万泉河桥站 is connected to []\n",
      "北安河站 is connected to ['温阳路站']\n",
      "桥户营站 is connected to []\n",
      "栗园庄站 is connected to []\n",
      "苹果园站 is connected to ['福寿岭站', '古城站', '杨庄站', '金安桥站', '金安桥站']\n",
      "小园站 is connected to ['栗园庄站']\n",
      "四道桥站 is connected to ['桥户营站', '金安桥站']\n",
      "石厂站 is connected to ['小园站']\n",
      "金安桥站 is connected to ['苹果园站', '四道桥站']\n",
      "上岸站 is connected to ['栗园庄站', '桥户营站']\n",
      "车公庄西站 is connected to ['车公庄站']\n",
      "草房站 is connected to ['常营站', '物资学院路站']\n",
      "慈寿寺站 is connected to ['海淀五路居站', '花园桥站', '车道沟站', '西钓鱼台站']\n",
      "通运门站 is connected to ['通州北关站', '北运河西站']\n",
      "东大桥站 is connected to []\n",
      "潞城站 is connected to ['东夏园站']\n",
      "青年路站 is connected to ['十里堡站', '褡裢坡站']\n",
      "南锣鼓巷站 is connected to ['北海北站', '东四站', '中国美术馆站', '什刹海站']\n",
      "物资学院路站 is connected to ['草房站', '通州北关站']\n",
      "郝家府站 is connected to ['北运河东站', '东夏园站']\n",
      "车公庄站 is connected to ['西直门站', '阜成门站', '车公庄西站', '平安里站']\n",
      "黄渠站 is connected to ['褡裢坡站', '常营站']\n",
      "常营站 is connected to ['黄渠站', '草房站']\n",
      "东四站 is connected to ['灯市口站', '张自忠路站', '南锣鼓巷站', '朝阳门站']\n",
      "呼家楼站 is connected to ['金台夕照站', '团结湖站', '东大桥站', '金台路站']\n",
      "北运河西站 is connected to ['通运门站', '北运河东站']\n",
      "杨庄站 is connected to ['西黄村站', '苹果园站']\n",
      "金台路站 is connected to ['呼家楼站', '十里堡站', '朝阳公园站']\n",
      "北海北站 is connected to []\n",
      "花园桥站 is connected to ['慈寿寺站', '白石桥南站']\n",
      "褡裢坡站 is connected to ['青年路站', '黄渠站']\n",
      "平安里站 is connected to ['西四站', '新街口站', '车公庄站', '北海北站']\n",
      "苹果园南路站 is connected to ['苹果园站']\n",
      "通州北关站 is connected to ['物资学院路站', '通运门站']\n",
      "海淀五路居站 is connected to ['田村站', '慈寿寺站', '四季青站']\n",
      "西黄村站 is connected to ['杨庄站', '廖公庄站']\n",
      "白石桥南站 is connected to ['花园桥站', '白堆子站']\n",
      "十里堡站 is connected to ['金台路站', '青年路站']\n",
      "田村站 is connected to ['廖公庄站', '海淀五路居站', '永定路站']\n",
      "廖公庄站 is connected to ['西黄村站', '田村站']\n",
      "东夏园站 is connected to ['郝家府站', '潞城站']\n",
      "朝阳门站 is connected to ['建国门站', '东四十条站', '东四站', '东大桥站']\n",
      "北运河东站 is connected to ['北运河西站', '郝家府站']\n",
      "生命科学园站 is connected to ['西二旗站', '朱辛庄站']\n",
      "南邵站 is connected to ['沙河站', '北邵洼站']\n",
      "朱辛庄站 is connected to ['生命科学园站', '巩华城站', '育知路站']\n",
      "北邵洼站 is connected to ['南邵站', '昌平东关站']\n",
      "昌平东关站 is connected to ['北邵洼站']\n",
      "昌平北站 is connected to []\n",
      "沙河站 is connected to ['巩华城站', '沙河高教园站']\n",
      "十三陵景区站 is connected to ['昌平西山口站']\n",
      "昌平西山口站 is connected to ['十三陵景区站']\n",
      "岛式车站 is connected to []\n",
      "昌平站 is connected to ['昌平东关站', '十三陵景区站']\n",
      "沙河高教园站 is connected to ['沙河站', '南邵站']\n",
      "巩华城站 is connected to ['朱辛庄站', '沙河站']\n",
      "森林公园南门站 is connected to ['奥林匹克公园站', '林萃桥站']\n",
      "永定门外站 is connected to ['木樨园站', '陶然桥站']\n",
      "五福堂站 is connected to ['火箭万源站', '德茂站']\n",
      "王府井站 is connected to ['天安门东站', '东单站', '前门站', '金鱼胡同站']\n",
      "瀛海站 is connected to ['德茂站']\n",
      "北土城站 is connected to ['安华桥站', '奥体中心站', '安贞门站', '健德门站']\n",
      "中国美术馆站 is connected to ['南锣鼓巷站']\n",
      "平西府站 is connected to ['回龙观东大街站', '育知路站']\n",
      "安德里北街站 is connected to ['鼓楼大街站', '安华桥站']\n",
      "奥体中心站 is connected to ['北土城站', '奥林匹克公园站']\n",
      "什刹海站 is connected to ['鼓楼大街站']\n",
      "大红门站 is connected to []\n",
      "和义站 is connected to ['大红门南站', '西洼地站']\n",
      "天桥站 is connected to ['永定门外站', '珠市口站']\n",
      "前门站 is connected to ['和平门站', '崇文门站', '珠市口站', '王府井站']\n",
      "德茂站 is connected to ['五福堂站', '瀛海站']\n",
      "安华桥站 is connected to ['安德里北街站', '北土城站', '马甸桥站', '安贞桥站']\n",
      "鼓楼大街站 is connected to ['安定门站', '积水潭站', '什刹海站', '安德里北街站']\n",
      "西小口站 is connected to ['永泰庄站', '育新站']\n",
      "育新站 is connected to ['西小口站', '霍营站']\n",
      "东高地站 is connected to ['和义站', '火箭万源站']\n",
      "六营门站 is connected to ['西洼地站', '五福堂站']\n",
      "永泰庄站 is connected to ['林萃桥站', '西小口站']\n",
      "海户屯站 is connected to ['木樨园站', '大红门站']\n",
      "金鱼胡同站 is connected to ['中国美术馆站', '王府井站']\n",
      "大红门南站 is connected to ['大红门站', '和义站']\n",
      "木樨园站 is connected to ['永定门外站', '海户屯站']\n",
      "育知路站 is connected to ['平西府站']\n",
      "火箭万源站 is connected to ['东高地站', '五福堂站']\n",
      "回龙观东大街站 is connected to ['霍营站', '平西府站']\n",
      "林萃桥站 is connected to ['森林公园南门站', '永泰庄站']\n",
      "白堆子站 is connected to ['军事博物馆站', '白石桥南站']\n",
      "丰台科技园站 is connected to ['科怡路站']\n"
     ]
    },
    {
     "name": "stdout",
     "output_type": "stream",
     "text": [
      "科怡路站 is connected to ['丰台科技园站', '丰台南路站']\n",
      "六里桥站 is connected to ['七里庄站', '六里桥东站', '莲花桥站', '西局站']\n",
      "六里桥东站 is connected to ['六里桥站', '北京西站']\n",
      "军事博物馆站 is connected to ['公主坟站', '木樨地站', '北京西站', '白堆子站']\n",
      "丰台东大街站 is connected to ['丰台南路站', '七里庄站']\n",
      "七里庄站 is connected to []\n",
      "魏公村站 is connected to ['国家图书馆站', '人民大学站']\n",
      "公益西桥站 is connected to []\n",
      "角门西站 is connected to ['公益西桥站', '马家堡站', '草桥站', '角门东站']\n",
      "西单站 is connected to ['复兴门站', '天安门西站', '宣武门站', '灵境胡同站']\n",
      "陶然亭站 is connected to ['北京南站', '菜市口站']\n",
      "安河桥北站 is connected to ['北宫门站']\n",
      "北京南站 is connected to []\n",
      "中关村站 is connected to ['海淀黄庄站', '北京大学东门站']\n",
      "动物园站 is connected to ['西直门站', '国家图书馆站']\n",
      "马家堡站 is connected to ['角门西站', '北京南站']\n",
      "西四站 is connected to ['灵境胡同站', '平安里站']\n",
      "新街口站 is connected to ['平安里站', '西直门站']\n",
      "灵境胡同站 is connected to ['西单站', '西四站']\n",
      "人民大学站 is connected to ['魏公村站', '海淀黄庄站', '苏州桥站', '双榆树站']\n",
      "北宫门站 is connected to ['西苑站']\n",
      "海淀黄庄站 is connected to ['知春里站', '苏州街站', '人民大学站', '中关村站']\n",
      "北京大学东门站 is connected to ['中关村站', '圆明园站']\n",
      "宣武门站 is connected to ['长椿街站', '和平门站', '菜市口站', '西单站']\n",
      "景泰站 is connected to ['永定门外站', '蒲黄榆站']\n",
      "高家园站 is connected to ['将台站', '望京南站', '芳园里站', '酒仙桥站']\n",
      "阜通站 is connected to ['望京南站', '望京站']\n",
      "东管头站 is connected to ['丽泽商务区站', '西局站']\n",
      "望京南站 is connected to ['高家园站', '阜通站']\n",
      "北工大西门站 is connected to ['十里河站', '平乐园站']\n",
      "平乐园站 is connected to ['北工大西门站']\n",
      "陶然桥站 is connected to ['北京南站', '永定门外站']\n",
      "大望路站 is connected to ['国贸站', '四惠站', '九龙山站', '红庙站']\n",
      "朝阳公园站 is connected to ['金台路站', '枣营站', '团结湖站', '石佛营站']\n",
      "园博园站 is connected to []\n",
      "善各庄站 is connected to ['来广营站']\n",
      "大井站 is connected to ['郭庄子站', '七里庄站']\n",
      "枣营站 is connected to ['朝阳公园站', '东风北桥站']\n",
      "东湖渠站 is connected to ['望京站', '来广营站']\n",
      "方庄站 is connected to ['蒲黄榆站']\n",
      "东风北桥站 is connected to ['枣营站', '将台站']\n",
      "景风门站 is connected to ['北京南站', '西铁营站', '草桥站', '牛街站']\n",
      "北京站 is connected to []\n",
      "大瓦窑站 is connected to ['园博园站', '郭庄子站']\n",
      "郭庄子站 is connected to ['大瓦窑站', '大井站']\n",
      "西铁营站 is connected to ['景风门站']\n",
      "蒲黄榆站 is connected to ['刘家窑站', '天坛东门站', '方庄站']\n",
      "来广营站 is connected to ['东湖渠站']\n",
      "西局站 is connected to ['六里桥站', '泥洼站', '七里庄站']\n",
      "将台站 is connected to ['东风北桥站', '高家园站']\n",
      "十里河站 is connected to ['分钟寺站', '潘家园站', '方庄站']\n",
      "菜户营站 is connected to []\n",
      "房山城关站 is connected to ['燕山站', '饶乐府站']\n",
      "星城站 is connected to ['大石河东站', '阎村站']\n",
      "马各庄站 is connected to ['饶乐府站', '大石河东站']\n",
      "饶乐府站 is connected to ['房山城关站', '马各庄站']\n",
      "大石河东站 is connected to ['马各庄站', '星城站']\n",
      "老城区站 is connected to []\n",
      "顾册站 is connected to ['周口店站']\n",
      "燕山站 is connected to ['房山城关站']\n",
      "紫草坞站 is connected to ['阎村站', '阎村东站']\n",
      "阎村站 is connected to ['星城站', '紫草坞站']\n",
      "巴沟站 is connected to ['苏州街站', '火器营站', '颐和园西门站']\n",
      "茶棚站 is connected to []\n",
      "香山站 is connected to []\n",
      "颐和园西门站 is connected to ['茶棚站']\n",
      "植物园站 is connected to []\n",
      "黑石头站 is connected to ['高井站']\n",
      "国贸站 is connected to ['永安里站', '大望路站', '双井站', '金台夕照站']\n",
      "四惠站 is connected to ['大望路站', '四惠东站', '四惠东站']\n",
      "果园站 is connected to ['通州北苑站', '九棵树站']\n",
      "福寿岭站 is connected to ['高井站', '苹果园站']\n",
      "终点站 is connected to []\n",
      "玉泉路站 is connected to ['八宝山站', '五棵松站']\n",
      "古城站 is connected to ['八角游乐园站']\n",
      "四惠东站 is connected to ['四惠站', '四惠站', '高碑店站']\n",
      "传媒大学站 is connected to ['高碑店站', '双桥站']\n",
      "天安门东站 is connected to []\n",
      "高碑店站 is connected to ['四惠东站', '传媒大学站']\n",
      "建国门站 is connected to ['北京站', '朝阳门站', '东单站', '永安里站']\n",
      "安定门站 is connected to ['雍和宫站', '鼓楼大街站']\n",
      "八角游乐园站 is connected to ['古城站', '八宝山站']\n",
      "五棵松站 is connected to ['玉泉路站', '万寿路站']\n",
      "高井站 is connected to ['福寿岭站']\n",
      "双桥站 is connected to ['传媒大学站', '管庄站']\n",
      "花庄站 is connected to ['土桥站', '高楼金站']\n",
      "万寿路站 is connected to ['五棵松站', '公主坟站']\n",
      "公主坟站 is connected to ['万寿路站', '军事博物馆站', '西钓鱼台站', '莲花桥站']\n",
      "北京军区站 is connected to []\n",
      "临河里站 is connected to ['梨园站']\n",
      "八宝山站 is connected to ['八角游乐园站', '玉泉路站']\n",
      "永安里站 is connected to ['建国门站', '国贸站']\n",
      "雍和宫站 is connected to ['东直门站', '安定门站', '北新桥站', '和平里北街站']\n",
      "衙门口站 is connected to []\n",
      "九棵树站 is connected to ['果园站']\n",
      "长椿街站 is connected to ['复兴门站', '宣武门站']\n",
      "管庄站 is connected to ['双桥站', '八里桥站']\n",
      "梨园站 is connected to ['九棵树站', '临河里站']\n",
      "复兴门站 is connected to ['阜成门站', '长椿街站', '南礼士路站', '西单站']\n",
      "天安门西站 is connected to ['西单站', '天安门东站']\n",
      "通州北苑站 is connected to ['八里桥站', '果园站']\n",
      "南礼士路站 is connected to ['木樨地站', '复兴门站']\n",
      "积水潭站 is connected to ['鼓楼大街站']\n",
      "八里桥站 is connected to ['管庄站', '通州北苑站']\n",
      "土桥站 is connected to ['临河里站']\n",
      "东单站 is connected to ['王府井站', '建国门站', '崇文门站', '灯市口站']\n",
      "2号航站楼站 is connected to ['三元桥站']\n",
      "3号航站楼站 is connected to ['2号航站楼站']\n",
      "三元桥站 is connected to ['亮马桥站', '太阳宫站', '3号航站楼站', '东直门站', '西坝河站', '芳园里站']\n",
      "惠新西街南口站 is connected to ['和平西桥站', '惠新西街北口站', '芍药居站', '安贞门站']\n",
      "刘家窑站 is connected to ['蒲黄榆站']\n",
      "和平西桥站 is connected to ['和平里北街站', '惠新西街南口站', '安贞桥站', '光熙门站']\n",
      "张自忠路站 is connected to ['东四站', '北新桥站', '东四十条站', '南锣鼓巷站']\n",
      "北苑路北站 is connected to ['大屯路东站', '立水桥南站']\n",
      "马坊站 is connected to []\n",
      "和平里北街站 is connected to ['雍和宫站', '和平西桥站']\n",
      "北新桥站 is connected to ['张自忠路站', '雍和宫站']\n",
      "天通苑南站 is connected to ['立水桥站', '天通苑站']\n",
      "平坊站 is connected to []\n",
      "惠新西街北口站 is connected to ['惠新西街南口站', '大屯路东站']\n",
      "立水桥南站 is connected to ['北苑路北站', '立水桥站']\n",
      "天通苑站 is connected to ['天通苑南站']\n",
      "崇文门站 is connected to ['北京站', '前门站', '北京站', '磁器口站', '东单站']\n",
      "灯市口站 is connected to ['东单站', '东四站']\n",
      "天通苑北站 is connected to ['天通苑站']\n",
      "天坛东门站 is connected to ['蒲黄榆站', '磁器口站']\n",
      "安贞门站 is connected to ['惠新西街南口站', '北土城站']\n",
      "莲花桥站 is connected to ['公主坟站', '六里桥站']\n",
      "车道沟站 is connected to ['长春桥站', '慈寿寺站']\n",
      "草桥站 is connected to []\n",
      "牡丹园站 is connected to ['健德门站', '西土城站']\n",
      "纪家庙站 is connected to ['首经贸站', '草桥站']\n",
      "农业展览馆站 is connected to ['团结湖站', '亮马桥站']\n",
      "火器营站 is connected to ['巴沟站', '长春桥站']\n",
      "分钟寺站 is connected to ['成寿寺站', '十里河站']\n",
      "成寿寺站 is connected to ['宋家庄站', '分钟寺站']\n",
      "西钓鱼台站 is connected to ['慈寿寺站', '公主坟站']\n",
      "长春桥站 is connected to ['火器营站', '车道沟站', '远大路站', '苏州桥站']\n",
      "金台夕照站 is connected to ['国贸站', '呼家楼站']\n",
      "角门东站 is connected to ['角门西站', '大红门站']\n",
      "石榴庄站 is connected to ['大红门站', '宋家庄站']\n",
      "健德门站 is connected to ['北土城站', '牡丹园站']\n",
      "知春里站 is connected to ['知春路站', '海淀黄庄站']\n",
      "潘家园站 is connected to ['十里河站', '劲松站']\n",
      "西土城站 is connected to []\n",
      "太阳宫站 is connected to ['三元桥站', '芍药居站', '香河园站', '望京西站']\n",
      "亮马桥站 is connected to ['农业展览馆站', '三元桥站']\n",
      "团结湖站 is connected to ['呼家楼站', '农业展览馆站']\n",
      "泥洼站 is connected to ['西局站', '丰台站']\n",
      "东四十条站 is connected to ['朝阳门站', '东直门站', '张自忠路站', '工人体育场站']\n",
      "阜成门站 is connected to ['车公庄站', '复兴门站']\n",
      "和平门站 is connected to ['宣武门站', '前门站']\n"
     ]
    }
   ],
   "source": [
    "station_connections = {}\n",
    "for station, url_line in stations.items():\n",
    "    station_connections[station] = [get_connection(station), url_line[1]]"
   ]
  },
  {
   "cell_type": "markdown",
   "metadata": {},
   "source": [
    "## （Optional）Create different policies for transfer system.\n"
   ]
  },
  {
   "cell_type": "markdown",
   "metadata": {},
   "source": [
    "以下部门为可选部分，请酌情完成。 并不要求全部同学完成。"
   ]
  },
  {
   "cell_type": "markdown",
   "metadata": {},
   "source": [
    "As much as you can to use the already implemented search agent. You just need to define the **is_goal()**, **get_successor()**, **strategy()** three functions. \n",
    "\n",
    "> a.\tDefine different policies for transfer system. \n",
    "\n",
    "> b.\tSuch as Shortest Path Priority（路程最短优先）, Minimum Transfer Priority(最少换乘优先), Comprehensive Priority(综合优先)\n",
    "\n",
    "> c.\tImplement Continuous transfer. Based on the Agent you implemented, please add this feature: Besides the @param start and @param destination two stations, add some more stations, we called @param by_way, it means, our path should from the start and end, but also include the  @param by_way stations. \n",
    "\n",
    "e.g \n",
    "```\n",
    "1. Input:  start=A,  destination=B, by_way=[C] \n",
    "    Output: [A, … .., C, …. B]\n",
    "2. Input: start=A, destination=B, by_way=[C, D, E]\n",
    "    Output: [A … C … E … D … B]  \n",
    "    # based on your policy, the E station could be reached firstly. \n",
    "![image.png](attachment:image.png)\n",
    "```"
   ]
  },
  {
   "cell_type": "markdown",
   "metadata": {},
   "source": [
    "##### 5.\tTest your result with commercial applications. \n",
    "\n",
    "将你的结果和高德地图或者百度地图进行比较，如果有不同，请分析原因\n"
   ]
  },
  {
   "cell_type": "markdown",
   "metadata": {},
   "source": [
    "恭喜，完成本次课程，你对常用的人工智能方法以及有一定的了解了。基于规则的，基于概率模型的，基于搜索的，基于机器学习的。 可以说，我们现在通常见到的方法都能够归属到这几类方法中。 这就是**人工智能**，并没有很难是吧？ 继续加油！"
   ]
  },
  {
   "cell_type": "markdown",
   "metadata": {},
   "source": [
    "![](https://timgsa.baidu.com/timg?image&quality=80&size=b9999_10000&sec=1562415163815&di=4b29a2a863a8285212033760f288ed7a&imgtype=0&src=http%3A%2F%2F5b0988e595225.cdn.sohucs.com%2Fimages%2F20180710%2F8704194a1d7f46a383ddc29d40c9bca5.jpeg)"
   ]
  }
 ],
 "metadata": {
  "kernelspec": {
   "display_name": "Python 3",
   "language": "python",
   "name": "python3"
  },
  "language_info": {
   "codemirror_mode": {
    "name": "ipython",
    "version": 3
   },
   "file_extension": ".py",
   "mimetype": "text/x-python",
   "name": "python",
   "nbconvert_exporter": "python",
   "pygments_lexer": "ipython3",
   "version": "3.7.1"
  }
 },
 "nbformat": 4,
 "nbformat_minor": 2
}
